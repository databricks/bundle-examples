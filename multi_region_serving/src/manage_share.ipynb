{
 "cells": [
  {
   "cell_type": "markdown",
   "metadata": {},
   "source": [
    "# Sync the share and add all required resources\n",
    "\n",
    "Add a model and all it's dependencies to the given Share.\n",
    "\n",
    "Prerequisit:\n",
    "\n",
    "* Create a share in [delta-sharing](https://docs.databricks.com/en/delta-sharing/create-share.html).\n",
    "* Config the default parameters in resources/manage_share.job.yml "
   ]
  },
  {
   "cell_type": "code",
   "execution_count": null,
   "metadata": {
    "vscode": {
     "languageId": "plaintext"
    }
   },
   "outputs": [],
   "source": [
    "%pip install databricks-sdk>=0.38.0\n",
    "%restart_python"
   ]
  },
  {
   "cell_type": "code",
   "execution_count": null,
   "metadata": {},
   "outputs": [],
   "source": [
    "dbutils.widgets.text(\"model_name\", defaultValue=\"\")\n",
    "dbutils.widgets.text(\"share_name\", defaultValue=\"\")\n",
    "dbutils.widgets.text(\"max_number_of_versions_to_sync\", defaultValue=\"10\")"
   ]
  },
  {
   "cell_type": "code",
   "execution_count": null,
   "metadata": {},
   "outputs": [],
   "source": [
    "from databricks.sdk import WorkspaceClient\n",
    "from databricks.sdk.service.serving import ServedEntityInput\n",
    "from databricks.sdk.service.sharing import (\n",
    "    SharedDataObjectUpdate,\n",
    "    SharedDataObjectUpdateAction,\n",
    "    SharedDataObjectDataObjectType,\n",
    "    SharedDataObject,\n",
    "    SharedDataObjectHistoryDataSharingStatus,\n",
    ")\n",
    "\n",
    "workspace = WorkspaceClient()"
   ]
  },
  {
   "cell_type": "code",
   "execution_count": null,
   "metadata": {},
   "outputs": [],
   "source": [
    "model_name = dbutils.widgets.get(\"model_name\")\n",
    "share_name = dbutils.widgets.get(\"share_name\")\n",
    "max_number_of_versions_to_sync = int(\n",
    "    dbutils.widgets.get(\"max_number_of_versions_to_sync\")\n",
    ")\n",
    "\n",
    "print(\"~~~ parameters ~~~\")\n",
    "print(f\"Model name: {model_name}\")\n",
    "print(f\"Share name: {share_name}\")\n",
    "print(f\"Max number of versions to sync: {max_number_of_versions_to_sync}\")"
   ]
  },
  {
   "cell_type": "code",
   "execution_count": null,
   "metadata": {},
   "outputs": [],
   "source": [
    "def getLatestVersions(model_name: str, max_number_of_versions: int):\n",
    "    versions = workspace.model_versions.list(\n",
    "        full_name=model_name,\n",
    "    )\n",
    "    result = []\n",
    "    for version in versions:\n",
    "        result.append(\n",
    "            workspace.model_versions.get(full_name=model_name, version=version.version)\n",
    "        )\n",
    "    return result\n",
    "\n",
    "\n",
    "def getDependencies(model_versions):\n",
    "    tables = set()\n",
    "    functions = set()\n",
    "    for version in model_versions:\n",
    "        for dependency in version.model_version_dependencies.dependencies:\n",
    "            if dependency.table is not None:\n",
    "                tables.add(dependency.table.table_full_name)\n",
    "            elif dependency.function is not None:\n",
    "                functions.add(dependency.function.function_full_name)\n",
    "    return tables, functions"
   ]
  },
  {
   "cell_type": "code",
   "execution_count": null,
   "metadata": {},
   "outputs": [],
   "source": [
    "versions = getLatestVersions(model_name, max_number_of_versions_to_sync)\n",
    "tableDependencies, functionDependencies = getDependencies(versions)"
   ]
  },
  {
   "cell_type": "code",
   "execution_count": null,
   "metadata": {},
   "outputs": [],
   "source": [
    "from lib.rest_client import RestClient\n",
    "\n",
    "notebook_context = dbutils.notebook.entry_point.getDbutils().notebook().getContext()\n",
    "rc = RestClient(notebook_context)"
   ]
  },
  {
   "cell_type": "code",
   "execution_count": null,
   "metadata": {},
   "outputs": [],
   "source": [
    "shareInfo = rc.get_share_info(share_name)"
   ]
  },
  {
   "cell_type": "code",
   "execution_count": null,
   "metadata": {},
   "outputs": [],
   "source": [
    "sharedTables = sharedFunctions = sharedSchemas = sharedModels = set()\n",
    "model_is_shared = False\n",
    "\n",
    "if \"objects\" in shareInfo:\n",
    "    sharedTables = set(\n",
    "        [\n",
    "            obj[\"name\"]\n",
    "            for obj in filter(\n",
    "                lambda obj: obj[\"data_object_type\"] == \"TABLE\", shareInfo[\"objects\"]\n",
    "            )\n",
    "        ]\n",
    "    )\n",
    "    sharedFunctions = set(\n",
    "        [\n",
    "            obj[\"name\"]\n",
    "            for obj in filter(\n",
    "                lambda obj: obj[\"data_object_type\"] == \"FUNCTION\", shareInfo[\"objects\"]\n",
    "            )\n",
    "        ]\n",
    "    )\n",
    "    sharedSchemas = set(\n",
    "        [\n",
    "            obj[\"name\"]\n",
    "            for obj in filter(\n",
    "                lambda obj: obj[\"data_object_type\"] == \"SCHEMA\", shareInfo[\"objects\"]\n",
    "            )\n",
    "        ]\n",
    "    )\n",
    "    sharedModels = set(\n",
    "        [\n",
    "            obj[\"name\"]\n",
    "            for obj in filter(\n",
    "                lambda obj: obj[\"data_object_type\"] == \"MODEL\", shareInfo[\"objects\"]\n",
    "            )\n",
    "        ]\n",
    "    )\n",
    "    model_is_shared = model_name in sharedModels"
   ]
  },
  {
   "cell_type": "code",
   "execution_count": null,
   "metadata": {},
   "outputs": [],
   "source": [
    "def getSchema(full_name):\n",
    "    name_sections = full_name.split(\".\")\n",
    "    return f\"{name_sections[0]}.{name_sections[1]}\"\n",
    "\n",
    "\n",
    "def getObjectsToAdd(dependencies, sharedObjects, sharedSchemas):\n",
    "    newDependencies = dependencies - sharedObjects\n",
    "    return list(filter(lambda x: getSchema(x) not in sharedSchemas, newDependencies))"
   ]
  },
  {
   "cell_type": "code",
   "execution_count": null,
   "metadata": {},
   "outputs": [],
   "source": [
    "tablesToAdd = getObjectsToAdd(tableDependencies, sharedTables, sharedSchemas)\n",
    "functionsToAdd = getObjectsToAdd(functionDependencies, sharedFunctions, sharedSchemas)\n",
    "\n",
    "updates = []\n",
    "\n",
    "for table in tablesToAdd:\n",
    "    updates.append(\n",
    "        SharedDataObjectUpdate(\n",
    "            action=SharedDataObjectUpdateAction.ADD,\n",
    "            data_object=SharedDataObject(\n",
    "                name=table,\n",
    "                data_object_type=SharedDataObjectDataObjectType.TABLE,\n",
    "                history_data_sharing_status=SharedDataObjectHistoryDataSharingStatus.ENABLED,\n",
    "            ),\n",
    "        )\n",
    "    )\n",
    "\n",
    "\n",
    "for function in functionsToAdd:\n",
    "    updates.append(\n",
    "        SharedDataObjectUpdate(\n",
    "            action=SharedDataObjectUpdateAction.ADD,\n",
    "            data_object=SharedDataObject(\n",
    "                name=function, data_object_type=SharedDataObjectDataObjectType.FUNCTION\n",
    "            ),\n",
    "        )\n",
    "    )\n",
    "\n",
    "if not model_is_shared:\n",
    "    updates.append(\n",
    "        SharedDataObjectUpdate(\n",
    "            action=SharedDataObjectUpdateAction.ADD,\n",
    "            data_object=SharedDataObject(\n",
    "                name=model_name, data_object_type=SharedDataObjectDataObjectType.MODEL\n",
    "            ),\n",
    "        )\n",
    "    )\n",
    "\n",
    "\n",
    "def print_update_summary(updates):\n",
    "    for update in updates:\n",
    "        print(\n",
    "            f\"{update.action.value} {update.data_object.data_object_type} {update.data_object.name}\"\n",
    "        )\n",
    "\n",
    "\n",
    "if updates:\n",
    "    print_update_summary(updates)\n",
    "    workspace.shares.update(name=share_name, updates=updates)\n",
    "else:\n",
    "    print(\"The share is already up-to-date.\")"
   ]
  }
 ],
 "metadata": {
  "language_info": {
   "name": "python"
  }
 },
 "nbformat": 4,
 "nbformat_minor": 2
}
