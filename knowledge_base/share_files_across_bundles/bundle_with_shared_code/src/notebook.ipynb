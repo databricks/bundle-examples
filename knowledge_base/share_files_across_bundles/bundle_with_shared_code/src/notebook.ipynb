{
 "cells": [
  {
   "cell_type": "code",
   "execution_count": null,
   "metadata": {},
   "outputs": [],
   "source": [
    "import os\n",
    "import sys\n",
    "\n",
    "# Traverse to the sync root path.\n",
    "# The working directory is equal to the directory containing the notebook.\n",
    "# Note: this requires DBR >= 14 or serverless.\n",
    "shared_path = os.getcwd() + \"/../../shared\"\n",
    "\n",
    "# Add the shared directory to the Python path.\n",
    "sys.path.append(shared_path)"
   ]
  },
  {
   "cell_type": "code",
   "execution_count": null,
   "metadata": {},
   "outputs": [],
   "source": [
    "# Import a function from the library in the shared directory.\n",
    "from shared_library import multiply\n",
    "\n",
    "# Use the function.\n",
    "result = multiply(2, 3)\n",
    "print(result)"
   ]
  }
 ],
 "metadata": {
  "language_info": {
   "name": "python"
  }
 },
 "nbformat": 4,
 "nbformat_minor": 2
}
