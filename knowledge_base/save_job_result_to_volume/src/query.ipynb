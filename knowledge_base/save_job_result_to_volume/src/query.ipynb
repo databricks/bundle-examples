{
 "cells": [
  {
   "cell_type": "code",
   "execution_count": null,
   "metadata": {},
   "outputs": [],
   "source": [
    "# Run the SQL query to get the top 10 trips by fare amount and store the result in CSV format in a Volume.\n",
    "schema_name = dbutils.widgets.get(\"schema_name\")\n",
    "best_trips_df = spark.sql(\"SELECT * FROM samples.nyctaxi.trips order by fare_amount desc LIMIT 10\")\n",
    "best_trips_df.write.format(\"csv\").option(\"header\", \"true\").save(f\"/Volumes/main/{schema_name}/my_volume/top_ten/trip_fares.csv\")"
   ]
  },
  {
   "cell_type": "code",
   "execution_count": 0,
   "metadata": {
    "application/vnd.databricks.v1+cell": {
     "cellMetadata": {
      "byteLimit": 2048000,
      "rowLimit": 10000
     },
     "inputWidgets": {},
     "nuid": "6bca260b-13d1-448f-8082-30b60a85c9ae",
     "showTitle": false,
     "title": ""
    }
   },
   "outputs": [],
   "source": [
    "# Load the saved data from the Volume and display it.\n",
    "df = spark.read.format(\"csv\").load(f\"/Volumes/main/{schema_name}/my_volume/top_ten/trip_fares.csv\")\n",
    "\n",
    "display(df)"
   ]
  }
 ],
 "metadata": {
  "application/vnd.databricks.v1+notebook": {
   "dashboards": [],
   "language": "python",
   "notebookMetadata": {
    "pythonIndentUnit": 2
   },
   "notebookName": "notebook",
   "widgets": {}
  },
  "kernelspec": {
   "display_name": "Python 3",
   "language": "python",
   "name": "python3"
  },
  "language_info": {
   "name": "python",
   "version": "3.11.4"
  }
 },
 "nbformat": 4,
 "nbformat_minor": 0
}
