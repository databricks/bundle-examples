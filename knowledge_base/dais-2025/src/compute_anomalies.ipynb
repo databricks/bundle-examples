{
 "cells": [
  {
   "cell_type": "code",
   "execution_count": null,
   "id": "ed8889bf",
   "metadata": {},
   "outputs": [],
   "source": [
    "from pyspark.sql.functions import col, mean, stddev\n",
    "from databricks.sdk.runtime import dbutils, spark\n",
    "\n",
    "catalog = dbutils.widgets.get(\"catalog\")\n",
    "schema = dbutils.widgets.get(\"schema\")\n",
    "df = spark.read.table(f\"{catalog}.{schema}.trips_raw\")\n",
    "\n",
    "# Add fare_per_mile column\n",
    "df = df.withColumn(\"fare_per_mile\", col(\"fare_amount\") / col(\"trip_distance\"))\n",
    "\n",
    "# Filter out invalid trips\n",
    "filtered = df.filter((col(\"trip_distance\") > 0) & (col(\"fare_per_mile\").isNotNull()))\n",
    "\n",
    "# Compute mean and stddev\n",
    "stats = filtered.select(mean(\"fare_per_mile\"), stddev(\"fare_per_mile\")).first()\n",
    "mean_val, std_val = stats[0], stats[1]\n",
    "\n",
    "# Flag outliers (z-score > 3)\n",
    "anomalies = filtered.filter((col(\"fare_per_mile\") > mean_val + 3 * std_val) |\n",
    "                            (col(\"fare_per_mile\") < mean_val - 3 * std_val))\n",
    "\n",
    "anomalies.write.mode(\"overwrite\").saveAsTable(f\"{catalog}.{schema}.anomalous_trips\")"
   ]
  }
 ],
 "metadata": {
  "kernelspec": {
   "display_name": ".venv",
   "language": "python",
   "name": "python3"
  },
  "language_info": {
   "name": "python",
   "version": "3.11.12"
  }
 },
 "nbformat": 4,
 "nbformat_minor": 5
}
