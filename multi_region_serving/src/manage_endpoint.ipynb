{
 "cells": [
  {
   "cell_type": "markdown",
   "metadata": {
    "application/vnd.databricks.v1+cell": {
     "cellMetadata": {},
     "inputWidgets": {},
     "nuid": "ee353e42-ff58-4955-9608-12865bd0950e",
     "showTitle": false,
     "tableResultSettingsMap": {},
     "title": ""
    }
   },
   "source": [
    "# Create or Update Model Serving Endpoint\n",
    "\n",
    "Create or Update the deployed serving endpoints with a new model version.\n",
    "\n",
    "* Make sure you've created online tables for all the required feature tables.\n",
    "* Run this job on the workspace where you want to serve the model. "
   ]
  },
  {
   "cell_type": "code",
   "execution_count": null,
   "metadata": {},
   "outputs": [],
   "source": [
    "%pip install databricks-sdk>=0.38.0\n",
    "%restart_python"
   ]
  },
  {
   "cell_type": "code",
   "execution_count": 0,
   "metadata": {
    "application/vnd.databricks.v1+cell": {
     "cellMetadata": {
      "byteLimit": 2048000,
      "rowLimit": 10000
     },
     "inputWidgets": {},
     "nuid": "da99ca57-cba0-4d67-a5a9-75d6a7884311",
     "showTitle": false,
     "tableResultSettingsMap": {},
     "title": ""
    }
   },
   "outputs": [],
   "source": [
    "dbutils.widgets.text(\"endpoint_name\", defaultValue=\"\")\n",
    "dbutils.widgets.text(\"model_name\", defaultValue=\"\")\n",
    "dbutils.widgets.text(\"model_version\", defaultValue=\"\")"
   ]
  },
  {
   "cell_type": "code",
   "execution_count": 0,
   "metadata": {
    "application/vnd.databricks.v1+cell": {
     "cellMetadata": {
      "byteLimit": 2048000,
      "rowLimit": 10000
     },
     "inputWidgets": {},
     "nuid": "5f2d79fc-86ab-4208-8970-b5547dc75820",
     "showTitle": false,
     "tableResultSettingsMap": {},
     "title": ""
    }
   },
   "outputs": [
    {
     "name": "stdout",
     "output_type": "stream",
     "text": [
      "{'endpoint_name': 'test-my-dab-endpoint', 'model_name': 'feature_store.sharing_bugbash_a7ce.fs_model', 'model_version': '2'}\n"
     ]
    }
   ],
   "source": [
    "ARGS = dbutils.widgets.getAll()\n",
    "\n",
    "endpoint_name = ARGS[\"endpoint_name\"]\n",
    "model_name = ARGS[\"model_name\"]\n",
    "model_version = ARGS[\"model_version\"]"
   ]
  },
  {
   "cell_type": "code",
   "execution_count": 0,
   "metadata": {
    "application/vnd.databricks.v1+cell": {
     "cellMetadata": {
      "byteLimit": 2048000,
      "rowLimit": 10000
     },
     "inputWidgets": {},
     "nuid": "43d66a63-39ea-436b-a82b-dd27eb479e40",
     "showTitle": false,
     "tableResultSettingsMap": {},
     "title": ""
    }
   },
   "outputs": [],
   "source": [
    "from databricks.sdk import WorkspaceClient\n",
    "from databricks.sdk.service.serving import ServedEntityInput, EndpointCoreConfigInput\n",
    "from databricks.sdk.errors import ResourceDoesNotExist\n",
    "\n",
    "workspace = WorkspaceClient()"
   ]
  },
  {
   "cell_type": "code",
   "execution_count": 0,
   "metadata": {
    "application/vnd.databricks.v1+cell": {
     "cellMetadata": {
      "byteLimit": 2048000,
      "rowLimit": 10000
     },
     "inputWidgets": {},
     "nuid": "3fe1e5b8-76ca-496b-890f-1cc584d29b38",
     "showTitle": false,
     "tableResultSettingsMap": {},
     "title": ""
    }
   },
   "outputs": [
    {
     "name": "stdout",
     "output_type": "stream",
     "text": [
      "A pending update for endpoint test-my-dab-endpoint is being processed.\n"
     ]
    }
   ],
   "source": [
    "try:\n",
    "    endpoint = workspace.serving_endpoints.get(name=endpoint_name)\n",
    "except ResourceDoesNotExist as e:\n",
    "    endpoint = None\n",
    "\n",
    "if endpoint is None:\n",
    "    workspace.serving_endpoints.create(\n",
    "        name=endpoint_name,\n",
    "        config=EndpointCoreConfigInput(\n",
    "            served_entities=[\n",
    "                ServedEntityInput(\n",
    "                    entity_name=model_name,\n",
    "                    entity_version=model_version,\n",
    "                    scale_to_zero_enabled=True,\n",
    "                    workload_size=\"Small\",\n",
    "                )\n",
    "            ]\n",
    "        ),\n",
    "    )\n",
    "    print(f\"Created endpoint {endpoint_name}\")\n",
    "elif endpoint.pending_config is not None:\n",
    "    print(f\"A pending update for endpoint {endpoint_name} is being processed.\")\n",
    "elif (\n",
    "    endpoint.config.served_entities[0].entity_name != model_name\n",
    "    or endpoint.config.served_entities[0].entity_version != model_version\n",
    "):\n",
    "    # Update endpoint\n",
    "    workspace.serving_endpoints.update_config(\n",
    "        name=endpoint_name,\n",
    "        served_entities=[\n",
    "            ServedEntityInput(\n",
    "                entity_name=model_name,\n",
    "                entity_version=model_version,\n",
    "                scale_to_zero_enabled=True,\n",
    "                workload_size=\"Small\",\n",
    "            )\n",
    "        ],\n",
    "    )\n",
    "    print(f\"Updated endpoint {endpoint_name}\")\n",
    "else:\n",
    "    print(\"Endpoint already up-to-date\")"
   ]
  }
 ],
 "metadata": {
  "application/vnd.databricks.v1+notebook": {
   "computePreferences": null,
   "dashboards": [],
   "environmentMetadata": null,
   "language": "python",
   "notebookMetadata": {
    "pythonIndentUnit": 2
   },
   "notebookName": "manage_endpoint",
   "widgets": {
    "endpoint_name": {
     "currentValue": "test-my-dab-endpoint",
     "nuid": "c116073e-3f87-45c6-9fe0-42bc21d624f4",
     "typedWidgetInfo": {
      "autoCreated": false,
      "defaultValue": "",
      "label": null,
      "name": "endpoint_name",
      "options": {
       "validationRegex": null,
       "widgetDisplayType": "Text"
      },
      "parameterDataType": "String"
     },
     "widgetInfo": {
      "defaultValue": "",
      "label": null,
      "name": "endpoint_name",
      "options": {
       "autoCreated": null,
       "validationRegex": null,
       "widgetType": "text"
      },
      "widgetType": "text"
     }
    },
    "model_name": {
     "currentValue": "feature_store.sharing_bugbash_a7ce.fs_model",
     "nuid": "9817611f-00f2-45f0-a61f-9a88132afd1b",
     "typedWidgetInfo": {
      "autoCreated": false,
      "defaultValue": "",
      "label": null,
      "name": "model_name",
      "options": {
       "validationRegex": null,
       "widgetDisplayType": "Text"
      },
      "parameterDataType": "String"
     },
     "widgetInfo": {
      "defaultValue": "",
      "label": null,
      "name": "model_name",
      "options": {
       "autoCreated": null,
       "validationRegex": null,
       "widgetType": "text"
      },
      "widgetType": "text"
     }
    },
    "model_version": {
     "currentValue": "2",
     "nuid": "d437ed85-d52e-4251-8896-b64d9a39f576",
     "typedWidgetInfo": {
      "autoCreated": false,
      "defaultValue": "",
      "label": null,
      "name": "model_version",
      "options": {
       "validationRegex": null,
       "widgetDisplayType": "Text"
      },
      "parameterDataType": "String"
     },
     "widgetInfo": {
      "defaultValue": "",
      "label": null,
      "name": "model_version",
      "options": {
       "autoCreated": null,
       "validationRegex": null,
       "widgetType": "text"
      },
      "widgetType": "text"
     }
    }
   }
  },
  "kernelspec": {
   "display_name": "dbconnect",
   "language": "python",
   "name": "python3"
  },
  "language_info": {
   "name": "python"
  }
 },
 "nbformat": 4,
 "nbformat_minor": 0
}
