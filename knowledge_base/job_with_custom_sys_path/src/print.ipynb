{
 "cells": [
  {
   "cell_type": "markdown",
   "metadata": {},
   "source": [
    "The below cell retrieves the path to this bundle's deployment file path,\n",
    "and adds it to the Python path."
   ]
  },
  {
   "cell_type": "code",
   "execution_count": null,
   "metadata": {},
   "outputs": [],
   "source": [
    "import sys\n",
    "from databricks.sdk.runtime import dbutils\n",
    "bundle_file_path = dbutils.widgets.get(\"bundle_file_path\")\n",
    "sys.path.append(bundle_file_path)"
   ]
  },
  {
   "cell_type": "code",
   "execution_count": null,
   "metadata": {},
   "outputs": [],
   "source": [
    "from my_custom_library import load_configuration\n",
    "from pprint import pprint\n",
    "\n",
    "pprint(load_configuration())"
   ]
  }
 ],
 "metadata": {
  "kernelspec": {
   "display_name": ".venv",
   "language": "python",
   "name": "python3"
  },
  "language_info": {
   "name": "python",
   "version": "3.12.6"
  }
 },
 "nbformat": 4,
 "nbformat_minor": 2
}
