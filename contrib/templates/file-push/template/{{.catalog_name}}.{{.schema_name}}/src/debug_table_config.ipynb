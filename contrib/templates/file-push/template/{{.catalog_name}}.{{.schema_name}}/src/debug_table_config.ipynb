{
 "cells": [
  {
   "cell_type": "markdown",
   "metadata": {
    "application/vnd.databricks.v1+cell": {
     "cellMetadata": {},
     "inputWidgets": {},
     "nuid": "c0609c90-7292-4a15-9e5f-bc5740240c24",
     "showTitle": false,
     "tableResultSettingsMap": {},
     "title": ""
    }
   },
   "source": [
    "## This Notebook should be run in a workspace, not locally.\n",
    "## Paste the table config JSON you would like to debug from `./configs/tables.json` and assign to variable `table_config`\n",
    "For example,\n",
    "```\n",
    "table_config = r'''\n",
    "{\n",
    "  \"name\": \"all_employees\",\n",
    "  \"format\": \"csv\",\n",
    "  \"format_options\": {\n",
    "    \"escape\": \"\\\"\",\n",
    "    \"multiLine\": \"false\"\n",
    "  }\n",
    "  \"schema_hints\": \"id int, name string\"\n",
    "}\n",
    "'''\n",
    "```\n",
    "Only `name` and `format` are required for a table."
   ]
  },
  {
   "cell_type": "code",
   "execution_count": 0,
   "metadata": {
    "application/vnd.databricks.v1+cell": {
     "cellMetadata": {},
     "inputWidgets": {},
     "nuid": "0065f01d-7a87-4810-9dc9-55e1ab56815f",
     "showTitle": false,
     "tableResultSettingsMap": {},
     "title": ""
    }
   },
   "outputs": [],
   "source": [
    "table_config = r\"\"\"\n",
    "  {\n",
    "    \"name\": \"employees\",\n",
    "    \"format\": \"csv\",\n",
    "    \"format_options\": {\n",
    "      \"escape\": \"\\\"\"\n",
    "    },\n",
    "    \"schema_hints\": \"id int, name string\"\n",
    "  }\n",
    "\"\"\""
   ]
  },
  {
   "cell_type": "markdown",
   "metadata": {
    "application/vnd.databricks.v1+cell": {
     "cellMetadata": {},
     "inputWidgets": {},
     "nuid": "86b00986-55bd-46e1-8258-a8240b7d2e0e",
     "showTitle": false,
     "tableResultSettingsMap": {},
     "title": ""
    }
   },
   "source": [
    "## Click `Run all` and inspect the parsed result. Iterate on the config until the result looks good"
   ]
  },
  {
   "cell_type": "code",
   "execution_count": 0,
   "metadata": {
    "application/vnd.databricks.v1+cell": {
     "cellMetadata": {},
     "inputWidgets": {},
     "nuid": "77843022-4cb8-4387-baf7-927705aa104d",
     "showTitle": false,
     "tableResultSettingsMap": {},
     "title": ""
    },
    "jupyter": {
     "source_hidden": true
    }
   },
   "outputs": [],
   "source": [
    "import json\n",
    "import tempfile\n",
    "from utils import tablemanager\n",
    "from utils import envmanager\n",
    "\n",
    "if not envmanager.has_default_storage():\n",
    "    print(\n",
    "        \"WARNING: Current catalog is not using default storage, some file push feature may not be available\"\n",
    "    )\n",
    "\n",
    "# Load table config\n",
    "table_config_json = json.loads(table_config)\n",
    "tablemanager.validate_config(table_config_json)\n",
    "table_name = table_config_json[\"name\"]\n",
    "table_volume_path_data = tablemanager.get_table_volume_path(table_name)\n",
    "\n",
    "assert tablemanager.has_data_file(table_name), (\n",
    "    f\"No data file found in {table_volume_path_data}. Please upload at least 1 file to {table_volume_path_data}\"\n",
    ")\n",
    "\n",
    "# Put schema location in temp directory\n",
    "with tempfile.TemporaryDirectory() as tmpdir:\n",
    "    display(tablemanager.get_df_with_config(spark, table_config_json, tmpdir))"
   ]
  },
  {
   "cell_type": "markdown",
   "metadata": {
    "application/vnd.databricks.v1+cell": {
     "cellMetadata": {},
     "inputWidgets": {},
     "nuid": "071ffa2e-f391-451b-a584-5727edd507c0",
     "showTitle": false,
     "tableResultSettingsMap": {},
     "title": ""
    }
   },
   "source": [
    "## Copy and paste the modified config back to the `./configs/tables.json` in the DAB folder"
   ]
  }
 ],
 "metadata": {
  "application/vnd.databricks.v1+notebook": {
   "computePreferences": null,
   "dashboards": [],
   "environmentMetadata": null,
   "inputWidgetPreferences": null,
   "language": "python",
   "notebookMetadata": {
    "pythonIndentUnit": 2
   },
   "notebookName": "debug_table_config",
   "widgets": {}
  },
  "language_info": {
   "name": "python"
  }
 },
 "nbformat": 4,
 "nbformat_minor": 0
}
