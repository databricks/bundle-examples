{
 "cells": [
  {
   "cell_type": "code",
   "execution_count": null,
   "metadata": {},
   "outputs": [],
   "source": [
    "import json\n",
    "import os\n",
    "\n",
    "# Traverse to the sync root path.\n",
    "# The working directory is equal to the directory containing the notebook.\n",
    "# Note: this requires DBR >= 14 or serverless.\n",
    "shared_path = os.getcwd() + \"/../../shared\""
   ]
  },
  {
   "cell_type": "code",
   "execution_count": null,
   "metadata": {},
   "outputs": [],
   "source": [
    "# Load the configuration stored in the shared directory.\n",
    "with open(shared_path + \"/config/data.json\") as file:\n",
    "    config = json.load(file)\n",
    "\n",
    "# Print the configuration\n",
    "print(config)"
   ]
  }
 ],
 "metadata": {
  "language_info": {
   "name": "python"
  }
 },
 "nbformat": 4,
 "nbformat_minor": 2
}
